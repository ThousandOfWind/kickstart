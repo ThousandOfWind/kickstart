{
 "cells": [
  {
   "cell_type": "markdown",
   "metadata": {},
   "source": [
    "## Beauty of Tree"
   ]
  },
  {
   "cell_type": "code",
   "execution_count": null,
   "metadata": {},
   "outputs": [],
   "source": [
    "def solve(N:int, A:int, B:int, P:[int]):\n",
    "    tree_A = [0] * (N+1)\n",
    "    for i in range(N, 0, -1):\n",
    "        tree_A[i] += 1\n",
    "        if i ==1:\n",
    "            break\n",
    "        up = 1\n",
    "        j =  P[i-2]\n",
    "        if j == 1 and A == 1:\n",
    "            tree_A[1] += tree_A[i]\n",
    "        else:\n",
    "            while i > A and j != 1:\n",
    "                if up % A == 0:\n",
    "                    tree_A[j] += tree_A[i]\n",
    "                    break\n",
    "                up += 1\n",
    "                j = P[j-2]\n",
    "                if j==1 and up % A == 0:\n",
    "                    tree_A[j] += tree_A[i]\n",
    "\n",
    "    tree_B = [0] * (N+1)\n",
    "    for i in range(N, 0, -1):\n",
    "        tree_B[i] += 1\n",
    "        if i ==1:\n",
    "            break\n",
    "        up = 1\n",
    "        j =  P[i-2]\n",
    "        if j == 1 and B == 1:\n",
    "            tree_B[1] += tree_B[i]\n",
    "        else:\n",
    "            while i > B and j != 1:\n",
    "                if up % B == 0:\n",
    "                    tree_B[j] += tree_B[i]\n",
    "                    break\n",
    "                up += 1\n",
    "                j = P[j-2]\n",
    "                if j==1 and up % B == 0:\n",
    "                    tree_B[j] += tree_B[i]\n",
    "\n",
    "\n",
    "\n",
    "    ret = 0\n",
    "    for i in range(1, N+1):\n",
    "        ret += (1- (1-tree_A[i] / N) * (1-tree_B[i]/N))\n",
    "    return ret\n"
   ]
  },
  {
   "cell_type": "code",
   "execution_count": null,
   "metadata": {},
   "outputs": [],
   "source": [
    "T = int(input())\n",
    "for i in range(1, T+1):\n",
    "    N, A, B = map(int, input().split())\n",
    "    P = list(map(int, input().split()))\n",
    "    res = solve(N, A, B, P)\n",
    "    print(\"Case #{}: {:f}\".format(i, res))"
   ]
  }
 ],
 "metadata": {
  "kernelspec": {
   "display_name": "Python 3",
   "language": "python",
   "name": "python3"
  },
  "language_info": {
   "codemirror_mode": {
    "name": "ipython",
    "version": 3
   },
   "file_extension": ".py",
   "mimetype": "text/x-python",
   "name": "python",
   "nbconvert_exporter": "python",
   "pygments_lexer": "ipython3",
   "version": "3.6.4"
  }
 },
 "nbformat": 4,
 "nbformat_minor": 2
}
