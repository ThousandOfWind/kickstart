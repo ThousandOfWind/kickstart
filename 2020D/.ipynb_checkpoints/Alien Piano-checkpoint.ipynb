{
 "cells": [
  {
   "cell_type": "markdown",
   "metadata": {},
   "source": [
    "## Alien Piano"
   ]
  },
  {
   "cell_type": "code",
   "execution_count": null,
   "metadata": {},
   "outputs": [],
   "source": [
    "def solve(N, K):\n",
    "\n",
    "    p = K[0]\n",
    "    up = 0\n",
    "    down = 0\n",
    "    count = 0\n",
    "\n",
    "    for k in K[1:]:\n",
    "        # print(p, k, up, down, count)\n",
    "\n",
    "        if k > p:\n",
    "            if down != 0:\n",
    "                count += down // 4\n",
    "                down = 0\n",
    "            up += 1\n",
    "        elif k < p:\n",
    "            if up != 0:\n",
    "                count += up // 4\n",
    "                # print(p, k, up, down, count)\n",
    "                up = 0\n",
    "            down += 1\n",
    "        p = k\n",
    "\n",
    "    count += up // 4\n",
    "    count += down // 4\n",
    "\n",
    "    # print(k, up, down, count)\n",
    "    return count"
   ]
  },
  {
   "cell_type": "code",
   "execution_count": null,
   "metadata": {},
   "outputs": [],
   "source": [
    "T = int(input())\n",
    "for i in range(1, T+1):\n",
    "    N = int(input())\n",
    "    K = list(map(int, input().split()))\n",
    "    if N <= 4:\n",
    "        res = 0\n",
    "    else:\n",
    "        res = solve(N, K)\n",
    "    print(\"Case #{}: {}\".format(i, res))"
   ]
  }
 ],
 "metadata": {
  "kernelspec": {
   "display_name": "Python 3",
   "language": "python",
   "name": "python3"
  },
  "language_info": {
   "codemirror_mode": {
    "name": "ipython",
    "version": 3
   },
   "file_extension": ".py",
   "mimetype": "text/x-python",
   "name": "python",
   "nbconvert_exporter": "python",
   "pygments_lexer": "ipython3",
   "version": "3.6.4"
  }
 },
 "nbformat": 4,
 "nbformat_minor": 2
}
