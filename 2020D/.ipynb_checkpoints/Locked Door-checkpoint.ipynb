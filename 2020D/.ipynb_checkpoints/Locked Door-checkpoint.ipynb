{
 "cells": [
  {
   "cell_type": "markdown",
   "metadata": {},
   "source": [
    "## Locked Door"
   ]
  },
  {
   "cell_type": "markdown",
   "metadata": {},
   "source": [
    "### cannot get through test set 2"
   ]
  },
  {
   "cell_type": "code",
   "execution_count": null,
   "metadata": {},
   "outputs": [],
   "source": [
    "def solve2(N:int, Q:int, D:[int], S:[int], K:[int]):\n",
    "    ret = []\n",
    "    result = {}\n",
    "\n",
    "    for s,k in zip(S, K):\n",
    "        if s in result.keys():\n",
    "            ret.append(result[s][k-1])\n",
    "        else:\n",
    "            if s == 1:\n",
    "                ret.append(k)\n",
    "            elif s == N:\n",
    "                ret.append(N-k+1)\n",
    "            else:\n",
    "                result[s] = [s,]\n",
    "                p = s\n",
    "                l = (float('inf'), None) if p == 1 else (D[p-2], p-1)\n",
    "                r = (float('inf'), None) if p == N else (D[p-1], p+1)\n",
    "\n",
    "                for i in range(N-1):\n",
    "                    if l[0] < r[0]:\n",
    "                        p = l[1]\n",
    "                        l = (float('inf'), None) if p == 1 else (D[p-2], p-1)\n",
    "                    else:\n",
    "                        p = r[1]\n",
    "                        r = (float('inf'), None) if p == N else (D[p-1], p+1)\n",
    "                    result[s].append(p)\n",
    "                ret.append(result[s][k-1])\n",
    "    ret = [str(i) for i in ret]\n",
    "    return ret"
   ]
  },
  {
   "cell_type": "code",
   "execution_count": null,
   "metadata": {},
   "outputs": [],
   "source": [
    "\n",
    "\n",
    "T = int(input())\n",
    "for i in range(1, T+1):\n",
    "    N, Q = map(int, input().split())\n",
    "    D = list(map(int, input().split()))\n",
    "    S = []\n",
    "    K = []\n",
    "    for _ in range(Q):\n",
    "        s, k = map(int, input().split())\n",
    "        S.append(s)\n",
    "        K.append(k)\n",
    "    res = solve2(N, Q, D, S, K)\n",
    "    print(\"Case #{}: {}\".format(i, ' '.join(res)))"
   ]
  }
 ],
 "metadata": {
  "kernelspec": {
   "display_name": "Python 3",
   "language": "python",
   "name": "python3"
  },
  "language_info": {
   "codemirror_mode": {
    "name": "ipython",
    "version": 3
   },
   "file_extension": ".py",
   "mimetype": "text/x-python",
   "name": "python",
   "nbconvert_exporter": "python",
   "pygments_lexer": "ipython3",
   "version": "3.6.4"
  }
 },
 "nbformat": 4,
 "nbformat_minor": 2
}
