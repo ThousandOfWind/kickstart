{
 "cells": [
  {
   "cell_type": "markdown",
   "metadata": {},
   "source": [
    "## Record break"
   ]
  },
  {
   "cell_type": "code",
   "execution_count": null,
   "metadata": {},
   "outputs": [],
   "source": [
    "def solve(N, V):\n",
    "    max_v = -1\n",
    "    count = 0\n",
    "\n",
    "    for i in range(N-1):\n",
    "        if V[i] > max_v:\n",
    "            max_v = V[i]\n",
    "            if V[i] > V[i+1]:\n",
    "                count += 1\n",
    "    if V[-1] > max_v:\n",
    "        count += 1\n",
    "    return count"
   ]
  },
  {
   "cell_type": "code",
   "execution_count": null,
   "metadata": {},
   "outputs": [],
   "source": [
    "T = int(input())\n",
    "for i in range(1, T+1):\n",
    "    N = int(input())\n",
    "    V = list(map(int, input().split()))\n",
    "    res = solve(N, V)\n",
    "    print(\"Case #{}: {}\".format(i, res))"
   ]
  }
 ],
 "metadata": {
  "kernelspec": {
   "display_name": "Python 3",
   "language": "python",
   "name": "python3"
  },
  "language_info": {
   "codemirror_mode": {
    "name": "ipython",
    "version": 3
   },
   "file_extension": ".py",
   "mimetype": "text/x-python",
   "name": "python",
   "nbconvert_exporter": "python",
   "pygments_lexer": "ipython3",
   "version": "3.6.4"
  }
 },
 "nbformat": 4,
 "nbformat_minor": 2
}
