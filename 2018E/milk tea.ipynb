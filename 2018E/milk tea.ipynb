{
 "cells": [
  {
   "cell_type": "code",
   "execution_count": null,
   "metadata": {},
   "outputs": [],
   "source": [
    "history = []\n",
    "\n",
    "def search(NOW, index, N, Preferance, Forbidden):\n",
    "    if index >= len(NOW):\n",
    "        # print(NOW, Preferance)\n",
    "        now = list(map(lambda x: str(x), NOW))\n",
    "        now = int(''.join(now), 2)\n",
    "        if now not in Forbidden:\n",
    "            count = list(map(lambda x: x[0] * N + x[1] - 2 * x[0] * x[1] , zip(NOW, Preferance)))\n",
    "            # print(count)\n",
    "            history.append(sum(count))\n",
    "        return\n",
    "    NOW[index] = 0\n",
    "    search(NOW, index+1, N, Preferance, Forbidden)\n",
    "    NOW[index] = 1\n",
    "    search(NOW, index+1, N, Preferance, Forbidden)\n",
    "\n"
   ]
  },
  {
   "cell_type": "code",
   "execution_count": null,
   "metadata": {},
   "outputs": [],
   "source": [
    "def solve(N, P, Preferance, Forbidden):\n",
    "    NOW = [0] * P\n",
    "    search(NOW, 0, N, Preferance, Forbidden)\n",
    "    return min(history)\n"
   ]
  },
  {
   "cell_type": "code",
   "execution_count": null,
   "metadata": {},
   "outputs": [],
   "source": [
    "\n",
    "# 广度搜索中去除不可能解\n",
    "def solve2(N, P, Preferance, Forbidden):\n",
    "    best = [[0, \"\"]]\n",
    "    for i in range(P):\n",
    "        cur = []\n",
    "        for cost, typ in best:\n",
    "            cur.append([cost + Preferance[i], typ + '0'])\n",
    "            cur.append([cost + N - Preferance[i], typ + '1'])\n",
    "        best = sorted(cur)[:101]\n",
    "    for cost, typ in best:\n",
    "        t = int(typ,2)\n",
    "        if t not in Forbidden:\n",
    "            return cost\n",
    "    return 0"
   ]
  },
  {
   "cell_type": "code",
   "execution_count": null,
   "metadata": {},
   "outputs": [],
   "source": [
    "\n",
    "T = int(input())\n",
    "for i in range(1, T+1):\n",
    "    N, M, P = map(int, input().split())\n",
    "    Preferance = [0] * P\n",
    "    for _ in range(N):\n",
    "        f_pre = list(input())\n",
    "        f_pre = list(map(lambda x: int(x), f_pre))\n",
    "        Preferance = list(map(lambda x: x[0] + x[1], zip(Preferance, f_pre)))\n",
    "\n",
    "    Forbidden = []\n",
    "    for _ in range(M):\n",
    "        Forbidden.append(int(input(),2))\n",
    "\n",
    "    history = []\n",
    "\n",
    "    res = solve2(N, P, Preferance, Forbidden)\n",
    "    print(\"Case #{}: {}\".format(i, res))"
   ]
  }
 ],
 "metadata": {
  "kernelspec": {
   "display_name": "Python 3",
   "language": "python",
   "name": "python3"
  },
  "language_info": {
   "codemirror_mode": {
    "name": "ipython",
    "version": 3
   },
   "file_extension": ".py",
   "mimetype": "text/x-python",
   "name": "python",
   "nbconvert_exporter": "python",
   "pygments_lexer": "ipython3",
   "version": "3.6.4"
  }
 },
 "nbformat": 4,
 "nbformat_minor": 2
}
