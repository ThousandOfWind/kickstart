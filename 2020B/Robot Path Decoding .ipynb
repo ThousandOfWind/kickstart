{
 "cells": [
  {
   "cell_type": "markdown",
   "metadata": {},
   "source": [
    "# Robot Path Decoding "
   ]
  },
  {
   "cell_type": "markdown",
   "metadata": {},
   "source": [
    "### in such setting, we can define direction as delta\n",
    "* N = (0, -1)\n",
    "* S = (0, 1)\n",
    "* E = (1, 0)\n",
    "* W = (-1, 0)\n",
    "\n",
    "### then we should construct a tree according to the string\n",
    "NSEW is leaf node, while () is midum node"
   ]
  },
  {
   "cell_type": "code",
   "execution_count": 3,
   "metadata": {},
   "outputs": [],
   "source": [
    "DELTA = {\n",
    "    'N': (0, -1),\n",
    "    'S':  (0, 1),\n",
    "    'W': (-1, 0),\n",
    "    'E':  (1, 0),\n",
    "}\n",
    "\n",
    "def add(a:(), b:()):\n",
    "    return [(ai + bi) % 1000000000 for ai, bi in zip(a,b)]\n",
    "\n",
    "def mul(a:(), b:int):\n",
    "    return [ai * b for ai in a]\n",
    "\n",
    "def solve(x:str, start:int):\n",
    "    delta = [0,0]\n",
    "    index = start\n",
    "    while index < len(x):\n",
    "        if x[index] == ')':\n",
    "            return delta, index + 1\n",
    "        elif x[index] in DELTA.keys():\n",
    "            delta = add(delta, DELTA[x[index]])\n",
    "            index += 1\n",
    "        else:\n",
    "            b = int(x[index])\n",
    "            a, index = solve(x, index+2)\n",
    "            delta = add(delta, mul(a,b))\n",
    "    \n",
    "    return delta[0] + 1, delta[1] + 1\n",
    "        "
   ]
  },
  {
   "cell_type": "code",
   "execution_count": 5,
   "metadata": {},
   "outputs": [
    {
     "name": "stdout",
     "output_type": "stream",
     "text": [
      "4\n",
      "N\n",
      "Case #1: 1 1000000000\n",
      "SSSEEE\n",
      "Case #2: 4 4\n",
      "N3(S)N2(E)N\n",
      "Case #3: 3 1\n",
      "2(3(NW)2(W2(EE)W))\n",
      "Case #4: 3 999999995\n"
     ]
    }
   ],
   "source": [
    "T = int(input())\n",
    "for i in range(1, T+1):\n",
    "    X = input()\n",
    "    x, y = solve(X, 0)\n",
    "    print(\"Case #{}: {} {}\".format(i, x, y))"
   ]
  },
  {
   "cell_type": "code",
   "execution_count": null,
   "metadata": {},
   "outputs": [],
   "source": []
  },
  {
   "cell_type": "code",
   "execution_count": null,
   "metadata": {},
   "outputs": [],
   "source": []
  }
 ],
 "metadata": {
  "kernelspec": {
   "display_name": "Python 3",
   "language": "python",
   "name": "python3"
  },
  "language_info": {
   "codemirror_mode": {
    "name": "ipython",
    "version": 3
   },
   "file_extension": ".py",
   "mimetype": "text/x-python",
   "name": "python",
   "nbconvert_exporter": "python",
   "pygments_lexer": "ipython3",
   "version": "3.6.4"
  }
 },
 "nbformat": 4,
 "nbformat_minor": 2
}
