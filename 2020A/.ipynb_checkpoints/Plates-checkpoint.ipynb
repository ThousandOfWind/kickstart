{
 "cells": [
  {
   "cell_type": "markdown",
   "metadata": {},
   "source": [
    "# Plates"
   ]
  },
  {
   "cell_type": "code",
   "execution_count": 23,
   "metadata": {},
   "outputs": [],
   "source": [
    "def solve(N:int, K:int, P:int, D:int):\n",
    "    last = [0] * (P+1)\n",
    "    for i in range(0,N):\n",
    "        sum_matrix = [0]*(K+1)\n",
    "        present = [0] * (P+1)\n",
    "        for j in range(1, K+1):\n",
    "            sum_matrix[j] = sum_matrix[j-1] + D[i][j-1]\n",
    "            \n",
    "        for p in range(1, P+1):\n",
    "            res_set = [sum_matrix[j] + last[p-j] for j in range(min(K,p) + 1)]\n",
    "            present[p] = max(res_set)\n",
    "#         print(sum_matrix)\n",
    "#         print(last)\n",
    "#         print(present)\n",
    "        last = present\n",
    "    return last[-1]"
   ]
  },
  {
   "cell_type": "code",
   "execution_count": 24,
   "metadata": {},
   "outputs": [
    {
     "name": "stdout",
     "output_type": "stream",
     "text": [
      "2\n",
      "2 4 5\n",
      "10 10 100 30\n",
      "80 50 10 50\n",
      "[0, 10, 20, 120, 150]\n",
      "[0, 0, 0, 0, 0, 0]\n",
      "[0, 10, 20, 120, 150, 150]\n",
      "[0, 80, 130, 140, 190]\n",
      "[0, 10, 20, 120, 150, 150]\n",
      "[0, 80, 130, 140, 200, 250]\n",
      "Case #1: 250\n",
      "2 4 5\n",
      "80 50 10 50\n",
      "10 10 100 30\n",
      "[0, 80, 130, 140, 190]\n",
      "[0, 0, 0, 0, 0, 0]\n",
      "[0, 80, 130, 140, 190, 190]\n",
      "[0, 10, 20, 120, 150]\n",
      "[0, 80, 130, 140, 190, 190]\n",
      "[0, 80, 130, 140, 200, 250]\n",
      "Case #2: 250\n"
     ]
    }
   ],
   "source": [
    "T = int(input())\n",
    "for i in range(1, T+1):\n",
    "    N, K, P = map(int, input().split())\n",
    "    D = []\n",
    "    for _ in range(N):\n",
    "        D.append(list(map(int, input().split())))\n",
    "    res = solve(N, K, P, D)\n",
    "    print(\"Case #{}: {}\".format(i, res))"
   ]
  },
  {
   "cell_type": "code",
   "execution_count": null,
   "metadata": {},
   "outputs": [],
   "source": []
  }
 ],
 "metadata": {
  "kernelspec": {
   "display_name": "Python 3",
   "language": "python",
   "name": "python3"
  },
  "language_info": {
   "codemirror_mode": {
    "name": "ipython",
    "version": 3
   },
   "file_extension": ".py",
   "mimetype": "text/x-python",
   "name": "python",
   "nbconvert_exporter": "python",
   "pygments_lexer": "ipython3",
   "version": "3.6.4"
  }
 },
 "nbformat": 4,
 "nbformat_minor": 2
}
