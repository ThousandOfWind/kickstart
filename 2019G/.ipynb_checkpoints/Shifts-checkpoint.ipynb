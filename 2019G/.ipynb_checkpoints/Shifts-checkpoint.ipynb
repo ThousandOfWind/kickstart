{
 "cells": [
  {
   "cell_type": "markdown",
   "metadata": {},
   "source": [
    "# Shifts"
   ]
  },
  {
   "cell_type": "markdown",
   "metadata": {},
   "source": [
    "### search for small dataset\n",
    "O($3^n$)"
   ]
  },
  {
   "cell_type": "code",
   "execution_count": 5,
   "metadata": {},
   "outputs": [],
   "source": [
    "def search (index:int, a:int, b:int, H:int, AB:[[]]):\n",
    "    if index == len(AB[0]):\n",
    "        return 0 if a < H or b < H else 1\n",
    "    res = 0\n",
    "    res += search(index+1, a + AB[0][index], b, H, AB)\n",
    "    res += search(index+1, a, b + AB[1][index], H, AB)\n",
    "    res += search(index+1, a + AB[0][index], b + AB[1][index], H, AB)\n",
    "    return res\n",
    "\n",
    "def solve1(N:int, H:int, AB:[[]]):\n",
    "    return search(0,0,0, H, AB)"
   ]
  },
  {
   "cell_type": "markdown",
   "metadata": {},
   "source": [
    "O($(3^{\\frac{n}{2}})^2$)\n",
    "\n",
    "and it is exactly = O($3^n$)"
   ]
  },
  {
   "cell_type": "code",
   "execution_count": 21,
   "metadata": {},
   "outputs": [],
   "source": [
    "def search2 (index:int, a:int, b:int, ab:[[]], end:int):\n",
    "    if index == end:\n",
    "        return [(a, b)]\n",
    "    res = []\n",
    "    res += search2(index+1, a + ab[0][index], b, ab, end)\n",
    "    res += search2(index+1, a, b + ab[1][index], ab, end)\n",
    "    res += search2(index+1, a + ab[0][index], b + ab[1][index], ab, end)\n",
    "    return res\n",
    "\n",
    "def judge(p1, p2, h):\n",
    "    res = [a + b >= h for a,b in zip(p1,p2)]\n",
    "    return 1 if res[0] and res[1] else 0\n",
    "\n",
    "def solve2(n:int, h:int, ab:[[]]):\n",
    "    pairs1 = search2(0,0,0, ab, int(n/2))\n",
    "    pairs2 = search2(int(len(ab[0])/2),0,0, ab, n)\n",
    "    res = 0\n",
    "    for p1 in pairs1:\n",
    "        for p2 in pairs2:\n",
    "            res += judge(p1, p2, h)\n",
    "    return res"
   ]
  },
  {
   "cell_type": "markdown",
   "metadata": {},
   "source": [
    "introduce sort\n",
    "$O(3^{\\frac{n}{2}}\\log(3^{\\frac{n}{2}})) \\sim O(3^{\\frac{n}{2}}N)$"
   ]
  },
  {
   "cell_type": "code",
   "execution_count": 32,
   "metadata": {},
   "outputs": [],
   "source": [
    "def find(pairs, value, start, end):\n",
    "    mid = int((start+end)/2)\n",
    "    if start == end:\n",
    "        return start\n",
    "    elif value <= pairs[mid-1][0]:\n",
    "        return find(pairs, value, start, mid)\n",
    "    elif value > pairs[mid][0]:\n",
    "        return find(pairs, value, mid+1, end)\n",
    "    else:\n",
    "        return mid        \n",
    "\n",
    "def solve3(n:int, h:int, ab:[[]]):\n",
    "    pairs1 = search2(0,0,0, ab, int(n/2))\n",
    "    pairs2 = search2(int(len(ab[0])/2),0,0, ab, n)\n",
    "    res = 0\n",
    "    pairs1.sort()\n",
    "    pairs2.sort()\n",
    "    \n",
    "    index = 0\n",
    "    count = 0\n",
    "    for a2,b2 in pairs2[::-1]:\n",
    "        index = find(pairs1, h-a2, index, len(pairs1))\n",
    "        for i in range(index, len(pairs1)):\n",
    "            if pairs1[i][1] + b2 >= h:\n",
    "                count += 1\n",
    "    return count\n",
    "    \n",
    "    "
   ]
  },
  {
   "cell_type": "code",
   "execution_count": null,
   "metadata": {},
   "outputs": [],
   "source": [
    "def solve(n:int, h:int, ab:[[]]):\n",
    "    if n < 12:\n",
    "        return solve1(n, h, ab)\n",
    "    else:\n",
    "        return solve3(n, h, ab)"
   ]
  },
  {
   "cell_type": "code",
   "execution_count": 33,
   "metadata": {},
   "outputs": [
    {
     "name": "stdout",
     "output_type": "stream",
     "text": [
      "2\n",
      "2 3\n",
      "1 2\n",
      "3 3\n",
      "Case #1: 3\n",
      "2 5\n",
      "2 2\n",
      "10 30\n",
      "Case #2: 0\n"
     ]
    }
   ],
   "source": [
    "T = int(input())\n",
    "for i in range(1, T+1):\n",
    "    N, H = map(int, input().split())\n",
    "    AB = []\n",
    "    for _ in range(2):\n",
    "        AB.append(list(map(int, input().split())))\n",
    "    res = solve3(N, H, AB)\n",
    "    print(\"Case #{}: {}\".format(i, res))"
   ]
  }
 ],
 "metadata": {
  "kernelspec": {
   "display_name": "Python 3",
   "language": "python",
   "name": "python3"
  },
  "language_info": {
   "codemirror_mode": {
    "name": "ipython",
    "version": 3
   },
   "file_extension": ".py",
   "mimetype": "text/x-python",
   "name": "python",
   "nbconvert_exporter": "python",
   "pygments_lexer": "ipython3",
   "version": "3.6.4"
  }
 },
 "nbformat": 4,
 "nbformat_minor": 2
}
